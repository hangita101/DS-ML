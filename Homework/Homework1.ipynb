{
 "cells": [
  {
   "cell_type": "markdown",
   "metadata": {},
   "source": [
    "4. Create a list of your favorite movies and print it. Then, append a new movie to the list and\n",
    "print the updated list."
   ]
  },
  {
   "cell_type": "code",
   "execution_count": 2,
   "metadata": {},
   "outputs": [
    {
     "name": "stdout",
     "output_type": "stream",
     "text": [
      "['3 idiots', 'Pulp Fiction', 'The Martian']\n"
     ]
    }
   ],
   "source": [
    "movies =['3 idiots','Pulp Fiction']\n",
    "movies.append('The Martian')\n",
    "print(movies)"
   ]
  },
  {
   "cell_type": "markdown",
   "metadata": {},
   "source": [
    "5. Create a list of integers from 1 to 10 and print it. Calculate the sum of all the numbers in\n",
    "the list and print the result."
   ]
  },
  {
   "cell_type": "code",
   "execution_count": 8,
   "metadata": {},
   "outputs": [
    {
     "name": "stdout",
     "output_type": "stream",
     "text": [
      "55\n"
     ]
    }
   ],
   "source": [
    "lst=[i for i in range(1,11)]\n",
    "print(sum(lst))"
   ]
  },
  {
   "cell_type": "markdown",
   "metadata": {},
   "source": [
    "6. Create a list of mixed data types including strings, integers, and floats and print it. Remove\n",
    "the first element from the list and print the modified list."
   ]
  },
  {
   "cell_type": "code",
   "execution_count": 10,
   "metadata": {},
   "outputs": [
    {
     "name": "stdout",
     "output_type": "stream",
     "text": [
      "['cat', 1, 1.2]\n",
      "[1, 1.2]\n"
     ]
    }
   ],
   "source": [
    "lst2= ['cat',1,1.2]\n",
    "print(lst2)\n",
    "lst2.pop(0)\n",
    "print(lst2)"
   ]
  },
  {
   "cell_type": "markdown",
   "metadata": {},
   "source": [
    "7. Create a tuple containing the names of the days of the week and print it. Access and print\n",
    "the name of the third day."
   ]
  },
  {
   "cell_type": "code",
   "execution_count": 11,
   "metadata": {},
   "outputs": [
    {
     "name": "stdout",
     "output_type": "stream",
     "text": [
      "('sunday', 'monday', 'tuesdy', 'wednesday', 'thrusday', 'friday', 'saturday')\n",
      "wednesday\n"
     ]
    }
   ],
   "source": [
    "days = ('sunday','monday','tuesdy','wednesday','thrusday','friday','saturday')\n",
    "print(days)\n",
    "print(days[3])"
   ]
  },
  {
   "cell_type": "markdown",
   "metadata": {},
   "source": [
    "8. Create a tuple of your favorite colors and print it. Check if a certain color is present in the\n",
    "tuple and print the result."
   ]
  },
  {
   "cell_type": "code",
   "execution_count": 12,
   "metadata": {},
   "outputs": [
    {
     "name": "stdout",
     "output_type": "stream",
     "text": [
      "black\n"
     ]
    }
   ],
   "source": [
    "colors = ('black','white','navy')\n",
    "if 'black' in colors:\n",
    "    print('black')"
   ]
  },
  {
   "cell_type": "markdown",
   "metadata": {},
   "source": [
    "9. Create a dictionary representing the information of a book with keys \"title\", \"author\", and\n",
    "\"year\" and print it. Update the year of the book and print the updated dictionary."
   ]
  },
  {
   "cell_type": "code",
   "execution_count": 17,
   "metadata": {},
   "outputs": [
    {
     "name": "stdout",
     "output_type": "stream",
     "text": [
      "{'title': 'Lord of Mysteries', 'author': 'Cuttlefish', 'year': 2019}\n",
      "{'title': 'Lord of Mysteries', 'author': 'Cuttlefish', 'year': 2020}\n"
     ]
    }
   ],
   "source": [
    "books={\n",
    "    'title':'Lord of Mysteries',\n",
    "    'author':'Cuttlefish',\n",
    "    'year':2019,\n",
    "}\n",
    "print(books)\n",
    "books['year']=2020\n",
    "print(books)"
   ]
  },
  {
   "cell_type": "markdown",
   "metadata": {},
   "source": [
    "10. Create a dictionary containing the names of fruits as keys and their corresponding colors\n",
    "as values and print it. Add a new fruit-color pair to the dictionary and print the updated\n",
    "dictionary."
   ]
  },
  {
   "cell_type": "code",
   "execution_count": 20,
   "metadata": {},
   "outputs": [
    {
     "name": "stdout",
     "output_type": "stream",
     "text": [
      "{'banana': 'yellow', 'apple': 'red', 'orange': 'orange'}\n",
      "{'banana': 'yellow', 'apple': 'red', 'orange': 'orange', 'mango': 'yellow'}\n"
     ]
    }
   ],
   "source": [
    "fruits = {\n",
    "    'banana':'yellow',\n",
    "    'apple':'red',\n",
    "    'orange':'orange'\n",
    "}\n",
    "print(fruits)\n",
    "fruits.update({'mango':'yellow'})\n",
    "print(fruits)"
   ]
  },
  {
   "cell_type": "markdown",
   "metadata": {},
   "source": [
    "11. Create a dictionary representing the population of different cities with keys as city names\n",
    "and values as population numbers and print it. Remove a city from the dictionary and print\n",
    "the modified dictionary."
   ]
  },
  {
   "cell_type": "code",
   "execution_count": 22,
   "metadata": {},
   "outputs": [
    {
     "name": "stdout",
     "output_type": "stream",
     "text": [
      "{'KTM': 2000, 'Bhaktapur': 1000}\n",
      "{'Bhaktapur': 1000}\n"
     ]
    }
   ],
   "source": [
    "city={\n",
    "    'KTM':2000,\n",
    "    'Bhaktapur':1000\n",
    "}\n",
    "print(city)\n",
    "city.pop('KTM')\n",
    "print(city)\n"
   ]
  }
 ],
 "metadata": {
  "kernelspec": {
   "display_name": "ML",
   "language": "python",
   "name": "python3"
  },
  "language_info": {
   "codemirror_mode": {
    "name": "ipython",
    "version": 3
   },
   "file_extension": ".py",
   "mimetype": "text/x-python",
   "name": "python",
   "nbconvert_exporter": "python",
   "pygments_lexer": "ipython3",
   "version": "3.10.15"
  }
 },
 "nbformat": 4,
 "nbformat_minor": 2
}
