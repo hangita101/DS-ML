{
 "cells": [
  {
   "cell_type": "code",
   "execution_count": 1,
   "metadata": {},
   "outputs": [],
   "source": [
    "import numpy as np"
   ]
  },
  {
   "cell_type": "markdown",
   "metadata": {},
   "source": [
    "## Array Creation:\n",
    "o Create a 1-dimensional array of integers from 1 to 10. <br>\n",
    "o Create a 2-dimensional array with random float values of shape (3, 4).<br>\n",
    "o Create a 3-dimensional array of zeros with shape (2, 3, 4).<br>"
   ]
  },
  {
   "cell_type": "code",
   "execution_count": 29,
   "metadata": {},
   "outputs": [],
   "source": [
    "array1 = np.arange(1,11)\n",
    "array2 =np.random.randn(3,4)\n",
    "array3 = np.zeros((2,3,4))"
   ]
  },
  {
   "cell_type": "markdown",
   "metadata": {},
   "source": [
    "## 2. Array Operations:\n",
    "o Given two 1-dimensional arrays, perform element-wise addition,\n",
    "subtraction, multiplication, and division. <br>\n",
    "o Calculate the mean, median, and standard deviation of a given 1-\n",
    "dimensional array.<br>\n",
    "o Reshape a 1-dimensional array into a 2-dimensional array of shape (3,\n",
    "4).<br>"
   ]
  },
  {
   "cell_type": "code",
   "execution_count": 17,
   "metadata": {},
   "outputs": [
    {
     "name": "stdout",
     "output_type": "stream",
     "text": [
      "[-5.11111111 -4.66666667 -4.22222222 -3.77777778 -3.33333333 -2.88888889\n",
      " -2.44444444 -2.         -1.55555556 -1.11111111]\n",
      "[ 7  9 11 13 15]\n",
      "[-5 -5 -5 -5 -5]\n",
      "[ 6 14 24 36 50]\n",
      "[0.16666667 0.28571429 0.375      0.44444444 0.5       ]\n"
     ]
    }
   ],
   "source": [
    "arr1= np.array([1,2,3,4,5])\n",
    "arr2 = np.array([6,7,8,9,10])\n",
    "print(array1)\n",
    "array1 = arr1+arr2\n",
    "print(array1)\n",
    "array1 = arr1-arr2\n",
    "print(array1)\n",
    "array1 = arr1*arr2\n",
    "print(array1)\n",
    "array1 = arr1/arr2\n",
    "print(array1)\n"
   ]
  },
  {
   "cell_type": "code",
   "execution_count": 19,
   "metadata": {},
   "outputs": [
    {
     "name": "stdout",
     "output_type": "stream",
     "text": [
      "[ 0  1  2  3  4  5  6  7  8  9 10 11]\n",
      "5.5\n",
      "5.5\n",
      "3.452052529534663\n",
      "[[ 0  1  2  3]\n",
      " [ 4  5  6  7]\n",
      " [ 8  9 10 11]]\n"
     ]
    }
   ],
   "source": [
    "array1 = np.arange(0,12)\n",
    "print(array1)\n",
    "mean1= array1.mean()\n",
    "print(mean1)\n",
    "median1= np.percentile(array1,50)\n",
    "print(median1)\n",
    "sd1 = array1.std()\n",
    "print(sd1)\n",
    "arr1 = array1.reshape(3,4)\n",
    "print(arr1)"
   ]
  },
  {
   "cell_type": "markdown",
   "metadata": {},
   "source": [
    "## 3. Array Indexing and Slicing:\n",
    "o Extract the first row and last column of a 2-dimensional array. <br>\n",
    "o Reverse the order of elements in a 1-dimensional array.<br>\n",
    "o Select elements from a 2-dimensional array that satisfy a specific<br>\n",
    "condition (e.g., values greater than a certain threshold).<br>"
   ]
  },
  {
   "cell_type": "code",
   "execution_count": 43,
   "metadata": {},
   "outputs": [
    {
     "name": "stdout",
     "output_type": "stream",
     "text": [
      "[-0.01311161 -0.34760898  0.39569907 -0.29947888]\n",
      "[-0.29947888  1.08902849  0.27298027]\n",
      "[10  9  8  7  6  5  4  3  2  1]\n",
      "[1.56811433 1.08902849 1.22626396]\n"
     ]
    }
   ],
   "source": [
    "print(array2[0,:])\n",
    "print(array2[:,-1])\n",
    "print(array1[-1::-1])\n",
    "print(array2[array2>=1])"
   ]
  },
  {
   "cell_type": "markdown",
   "metadata": {},
   "source": [
    "## 4. Array Broadcasting:\n",
    "o Add a scalar value to each element of a 2-dimensional array.<br>\n",
    "o Multiply a 1-dimensional array with a 2-dimensional array, leveraging<br>\n",
    "NumPy's broadcasting rules.<br>"
   ]
  },
  {
   "cell_type": "code",
   "execution_count": 50,
   "metadata": {},
   "outputs": [
    {
     "name": "stdout",
     "output_type": "stream",
     "text": [
      "[[1.98688839 1.65239102 2.39569907 1.70052112]\n",
      " [3.56811433 2.86787832 1.5867293  3.08902849]\n",
      " [2.33577505 3.22626396 2.05614411 2.27298027]]\n",
      "[1 2 3 4 5]\n",
      "[[0 1 2 3 4]\n",
      " [5 6 7 8 9]]\n",
      "[[ 0  2  6 12 20]\n",
      " [ 5 12 21 32 45]]\n"
     ]
    }
   ],
   "source": [
    "print(array2+2)\n",
    "onedArr = np.arange(1,6)\n",
    "print(onedArr)\n",
    "twodArr = np.arange(0,10).reshape(2,5)\n",
    "print(twodArr)\n",
    "print(twodArr*onedArr)"
   ]
  },
  {
   "cell_type": "markdown",
   "metadata": {},
   "source": [
    "## 5. Linear Algebra:\n",
    "o Calculate the dot product of two 1-dimensional arrays.<br>\n",
    "o Compute the matrix multiplication of two 2-dimensional arrays.<br>\n",
    "o Find the inverse and determinant of a square matrix.<br>"
   ]
  },
  {
   "cell_type": "code",
   "execution_count": null,
   "metadata": {},
   "outputs": [
    {
     "name": "stdout",
     "output_type": "stream",
     "text": [
      "32.0\n",
      "[[ 36.  42.  51.]\n",
      " [ 81.  96. 117.]\n",
      " [134. 159. 194.]]\n",
      "-3.000000000000001\n",
      "[[ 1.00000000e+00 -4.44089210e-16 -1.11022302e-16]\n",
      " [ 4.44089210e-16  1.00000000e+00 -2.22044605e-16]\n",
      " [ 4.44089210e-16  8.88178420e-16  1.00000000e+00]]\n",
      "-9.51619735392994e-16\n",
      "[[ 0.   1.  -0.5]\n",
      " [ 0.   2.  -1. ]\n",
      " [ 0.   3.   2.5]]\n"
     ]
    }
   ],
   "source": [
    "arr1 = np.array([1,2,3.])\n",
    "arr2 = np.array([4,5,6.])\n",
    "print(np.dot(arr1,arr2))\n",
    "\n",
    "mat1 = np.matrix([[1,2,3],[4,5,6],[7,8,10.]])\n",
    "mat2 = mat1+1\n",
    "print(np.matmul(mat1,mat2))\n",
    "\n",
    "print(np.linalg.det(mat1))\n",
    "invmat1=np.linalg.inv(mat1)\n",
    "print(mat1@invmat1)\n",
    "# close to one\n",
    "\n",
    "\n",
    "# but if I\n",
    "mat1 = np.matrix([[1,2,3],[4,5,6],[7,8,9.]])\n",
    "print(np.linalg.det(mat1)) # near to zero\n",
    "invmat1=np.linalg.inv(mat1)\n",
    "print(mat1@invmat1) # Weried result cause of near zero determinant and floating point magic\n"
   ]
  },
  {
   "cell_type": "code",
   "execution_count": null,
   "metadata": {},
   "outputs": [],
   "source": []
  }
 ],
 "metadata": {
  "kernelspec": {
   "display_name": "ML",
   "language": "python",
   "name": "python3"
  },
  "language_info": {
   "codemirror_mode": {
    "name": "ipython",
    "version": 3
   },
   "file_extension": ".py",
   "mimetype": "text/x-python",
   "name": "python",
   "nbconvert_exporter": "python",
   "pygments_lexer": "ipython3",
   "version": "3.10.15"
  }
 },
 "nbformat": 4,
 "nbformat_minor": 2
}
